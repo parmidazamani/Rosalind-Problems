{
 "cells": [
  {
   "cell_type": "code",
   "execution_count": 81,
   "id": "e5559412",
   "metadata": {},
   "outputs": [],
   "source": [
    "s = 'GATATATGCATATACTT'\n",
    "t = 'ATAT'"
   ]
  },
  {
   "cell_type": "code",
   "execution_count": 82,
   "id": "8ffdd831",
   "metadata": {},
   "outputs": [],
   "source": [
    "def find_motif(dna):\n",
    "    for i in range(len(dna)):\n",
    "        j = i + len(t)\n",
    "        if t == s[i:j]:\n",
    "            print(i+1)"
   ]
  },
  {
   "cell_type": "code",
   "execution_count": 83,
   "id": "4826d015",
   "metadata": {
    "scrolled": true
   },
   "outputs": [
    {
     "name": "stdout",
     "output_type": "stream",
     "text": [
      "2\n",
      "4\n",
      "10\n"
     ]
    }
   ],
   "source": [
    "find_motif(s)"
   ]
  },
  {
   "cell_type": "code",
   "execution_count": 84,
   "id": "c883c48e",
   "metadata": {},
   "outputs": [],
   "source": [
    "# or\n",
    "def find_motif(s):\n",
    "    for i in range(len(s)):\n",
    "        if s[i:].startswith(t):\n",
    "            print(i+1)"
   ]
  },
  {
   "cell_type": "code",
   "execution_count": 85,
   "id": "82f4e5f6",
   "metadata": {},
   "outputs": [
    {
     "name": "stdout",
     "output_type": "stream",
     "text": [
      "2\n",
      "4\n",
      "10\n"
     ]
    }
   ],
   "source": [
    "find_motif(s)"
   ]
  }
 ],
 "metadata": {
  "kernelspec": {
   "display_name": "Python 3 (ipykernel)",
   "language": "python",
   "name": "python3"
  },
  "language_info": {
   "codemirror_mode": {
    "name": "ipython",
    "version": 3
   },
   "file_extension": ".py",
   "mimetype": "text/x-python",
   "name": "python",
   "nbconvert_exporter": "python",
   "pygments_lexer": "ipython3",
   "version": "3.9.12"
  }
 },
 "nbformat": 4,
 "nbformat_minor": 5
}
